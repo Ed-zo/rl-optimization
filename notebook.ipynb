{
 "cells": [
  {
   "cell_type": "code",
   "execution_count": 2,
   "metadata": {},
   "outputs": [],
   "source": [
    "import torch\n",
    "import torch.nn as nn\n",
    "import datetime\n",
    "import json\n",
    "import torch.nn.functional as F\n",
    "import torch.nn.init as init\n",
    "import numpy as np\n",
    "from torch.profiler import profile, record_function, ProfilerActivity"
   ]
  },
  {
   "cell_type": "code",
   "execution_count": 3,
   "metadata": {},
   "outputs": [],
   "source": [
    "class PolicyValueModel(nn.Module):\n",
    "    def __init__(self, count_of_actions, n):\n",
    "        super(PolicyValueModel, self).__init__()\n",
    "\n",
    "        # self.conv1 = nn.Conv1d(1, 16, 3)\n",
    "        # self.conv2 = nn.Conv1d(16, 32, 3)\n",
    "\n",
    "        self.fc_p1 = nn.Linear(count_of_actions, n)\n",
    "        self.fc_p2 = nn.Linear(n, count_of_actions)\n",
    "\n",
    "        self.fc_v1 = nn.Linear(count_of_actions, n)\n",
    "        self.fc_v2 = nn.Linear(n, 1)\n",
    "\n",
    "        features_layers = []  # [self.conv1, self.conv2]\n",
    "        for layer in features_layers:\n",
    "            torch.nn.init.xavier_normal_(layer.weight)\n",
    "            torch.nn.init.zeros_(layer.bias)\n",
    "\n",
    "        output_layers = [self.fc_p1, self.fc_p2, self.fc_v1, self.fc_v2]\n",
    "        for layer in output_layers:\n",
    "            torch.nn.init.xavier_normal_(layer.weight)\n",
    "            torch.nn.init.zeros_(layer.bias)\n",
    "\n",
    "    def forward(self, x):\n",
    "        # x = self.conv1(x)\n",
    "        # x = self.conv2(x)\n",
    "\n",
    "        # x = x.view(-1, 32)\n",
    "\n",
    "        x_logit = F.relu(self.fc_p1(x))\n",
    "        logit = self.fc_p2(x_logit)\n",
    "\n",
    "        x_value = F.relu(self.fc_v1(x))\n",
    "        value = self.fc_v2(x_value)\n",
    "\n",
    "        return logit, value\n"
   ]
  },
  {
   "cell_type": "code",
   "execution_count": 4,
   "metadata": {},
   "outputs": [],
   "source": [
    "#%load_ext autoreload\n",
    "#%autoreload 2"
   ]
  },
  {
   "cell_type": "code",
   "execution_count": 10,
   "metadata": {},
   "outputs": [
    {
     "name": "stdout",
     "output_type": "stream",
     "text": [
      "device:  cuda\n",
      "optimizer: Adam\n",
      "Training is starting\n",
      "iteration:        1 \tepsiode:  150 \tscore:  -1.0000 \tavg score:  -1.0000 \tBest score:  -1.0000 Obj:  244839 \tAvg obj:   238119 \tBest obj: 109786.0\n",
      "iteration:        3 \tepsiode:  300 \tscore:  -1.0000 \tavg score:  -1.0000 \tBest score:  -1.0000 Obj:  220085 \tAvg obj:   235169 \tBest obj: 109786.0\n",
      "iteration:        4 \tepsiode:  450 \tscore:  -1.0000 \tavg score:  -1.0000 \tBest score:  -1.0000 Obj:  171131 \tAvg obj:   231986 \tBest obj: 97463.0\n",
      "iteration:        6 \tepsiode:  600 \tscore:  -1.0000 \tavg score:  -1.0000 \tBest score:  -1.0000 Obj:  287729 \tAvg obj:   232571 \tBest obj: 97463.0\n",
      "iteration:        8 \tepsiode:  750 \tscore:  -1.0000 \tavg score:  -1.0000 \tBest score:  -1.0000 Obj:  244990 \tAvg obj:   230347 \tBest obj: 95802.0\n",
      "iteration:        9 \tepsiode:  900 \tscore:  -1.0000 \tavg score:  -1.0000 \tBest score:  -1.0000 Obj:  210208 \tAvg obj:   238738 \tBest obj: 95802.0\n",
      "iteration:       11 \tepsiode:  1050 \tscore:  -1.0000 \tavg score:  -1.0000 \tBest score:  -1.0000 Obj:  144977 \tAvg obj:   225599 \tBest obj: 95802.0\n",
      "iteration:       13 \tepsiode:  1200 \tscore:  -1.0000 \tavg score:  -1.0000 \tBest score:  -1.0000 Obj:  190509 \tAvg obj:   228487 \tBest obj: 95802.0\n",
      "iteration:       14 \tepsiode:  1350 \tscore:  -1.0000 \tavg score:  -1.0000 \tBest score:  -1.0000 Obj:  247409 \tAvg obj:   243490 \tBest obj: 95802.0\n",
      "iteration:       16 \tepsiode:  1500 \tscore:  -1.0000 \tavg score:  -1.0000 \tBest score:  -1.0000 Obj:  229606 \tAvg obj:   235094 \tBest obj: 95802.0\n",
      "iteration:       18 \tepsiode:  1650 \tscore:  -1.0000 \tavg score:  -1.0000 \tBest score:  -1.0000 Obj:  156639 \tAvg obj:   235227 \tBest obj: 95802.0\n",
      "iteration:       19 \tepsiode:  1800 \tscore:  -1.0000 \tavg score:  -1.0000 \tBest score:  -1.0000 Obj:  161789 \tAvg obj:   233403 \tBest obj: 95802.0\n",
      "iteration:       21 \tepsiode:  1950 \tscore:  -1.0000 \tavg score:  -1.0000 \tBest score:  -1.0000 Obj:  296165 \tAvg obj:   235096 \tBest obj: 95802.0\n",
      "iteration:       23 \tepsiode:  2100 \tscore:  -1.0000 \tavg score:  -1.0000 \tBest score:  -1.0000 Obj:  267312 \tAvg obj:   239017 \tBest obj: 95802.0\n",
      "iteration:       24 \tepsiode:  2250 \tscore:  -1.0000 \tavg score:  -1.0000 \tBest score:  -1.0000 Obj:  312533 \tAvg obj:   245384 \tBest obj: 95802.0\n",
      "iteration:       26 \tepsiode:  2400 \tscore:  -1.0000 \tavg score:  -1.0000 \tBest score:  -1.0000 Obj:  310993 \tAvg obj:   240393 \tBest obj: 95802.0\n",
      "iteration:       28 \tepsiode:  2550 \tscore:  -1.0000 \tavg score:  -1.0000 \tBest score:  -1.0000 Obj:  321784 \tAvg obj:   245217 \tBest obj: 95802.0\n",
      "iteration:       29 \tepsiode:  2700 \tscore:  -1.0000 \tavg score:  -1.0000 \tBest score:  -1.0000 Obj:  285261 \tAvg obj:   259802 \tBest obj: 95802.0\n",
      "iteration:       31 \tepsiode:  2850 \tscore:  -1.0000 \tavg score:  -1.0000 \tBest score:  -1.0000 Obj:  291249 \tAvg obj:   245669 \tBest obj: 95802.0\n",
      "iteration:       33 \tepsiode:  3000 \tscore:  -1.0000 \tavg score:  -1.0000 \tBest score:  -1.0000 Obj:  282113 \tAvg obj:   240371 \tBest obj: 95802.0\n",
      "iteration:       34 \tepsiode:  3150 \tscore:  -1.0000 \tavg score:  -1.0000 \tBest score:  -1.0000 Obj:  286573 \tAvg obj:   242404 \tBest obj: 95802.0\n",
      "iteration:       36 \tepsiode:  3300 \tscore:  -1.0000 \tavg score:  -1.0000 \tBest score:  -1.0000 Obj:  204565 \tAvg obj:   239854 \tBest obj: 95802.0\n",
      "iteration:       38 \tepsiode:  3450 \tscore:  -1.0000 \tavg score:  -1.0000 \tBest score:  -1.0000 Obj:  154325 \tAvg obj:   245601 \tBest obj: 95802.0\n",
      "iteration:       39 \tepsiode:  3600 \tscore:  -1.0000 \tavg score:  -1.0000 \tBest score:  -1.0000 Obj:  160860 \tAvg obj:   239282 \tBest obj: 95802.0\n",
      "iteration:       41 \tepsiode:  3750 \tscore:  -1.0000 \tavg score:  -1.0000 \tBest score:  -1.0000 Obj:  328758 \tAvg obj:   231470 \tBest obj: 95802.0\n",
      "iteration:       43 \tepsiode:  3900 \tscore:  -1.0000 \tavg score:  -1.0000 \tBest score:  -1.0000 Obj:  194432 \tAvg obj:   224266 \tBest obj: 95802.0\n",
      "iteration:       44 \tepsiode:  4050 \tscore:  -1.0000 \tavg score:  -1.0000 \tBest score:  -1.0000 Obj:  149959 \tAvg obj:   226724 \tBest obj: 95802.0\n",
      "iteration:       46 \tepsiode:  4200 \tscore:  -1.0000 \tavg score:  -1.0000 \tBest score:  -1.0000 Obj:  191371 \tAvg obj:   226560 \tBest obj: 95802.0\n",
      "iteration:       48 \tepsiode:  4350 \tscore:  -1.0000 \tavg score:  -1.0000 \tBest score:  -1.0000 Obj:  309083 \tAvg obj:   224505 \tBest obj: 95802.0\n",
      "iteration:       49 \tepsiode:  4500 \tscore:  -1.0000 \tavg score:  -1.0000 \tBest score:  -1.0000 Obj:  148310 \tAvg obj:   226417 \tBest obj: 95802.0\n",
      "iteration:       51 \tepsiode:  4650 \tscore:  -1.0000 \tavg score:  -1.0000 \tBest score:  -1.0000 Obj:  203496 \tAvg obj:   238990 \tBest obj: 95802.0\n",
      "iteration:       53 \tepsiode:  4800 \tscore:  -1.0000 \tavg score:  -1.0000 \tBest score:  -1.0000 Obj:  194190 \tAvg obj:   226010 \tBest obj: 95802.0\n",
      "iteration:       54 \tepsiode:  4950 \tscore:  -1.0000 \tavg score:  -1.0000 \tBest score:  -1.0000 Obj:  251568 \tAvg obj:   232598 \tBest obj: 95802.0\n",
      "iteration:       56 \tepsiode:  5100 \tscore:  -1.0000 \tavg score:  -1.0000 \tBest score:  -1.0000 Obj:  335902 \tAvg obj:   227619 \tBest obj: 95802.0\n",
      "iteration:       58 \tepsiode:  5250 \tscore:  -1.0000 \tavg score:  -1.0000 \tBest score:  -1.0000 Obj:  276480 \tAvg obj:   215492 \tBest obj: 95802.0\n",
      "iteration:       59 \tepsiode:  5400 \tscore:  -1.0000 \tavg score:  -1.0000 \tBest score:  -1.0000 Obj:  146414 \tAvg obj:   224893 \tBest obj: 95802.0\n",
      "iteration:       61 \tepsiode:  5550 \tscore:  -1.0000 \tavg score:  -1.0000 \tBest score:  -1.0000 Obj:  316687 \tAvg obj:   217355 \tBest obj: 95802.0\n",
      "iteration:       63 \tepsiode:  5700 \tscore:  -1.0000 \tavg score:  -1.0000 \tBest score:  -1.0000 Obj:  159356 \tAvg obj:   225532 \tBest obj: 95802.0\n",
      "iteration:       64 \tepsiode:  5850 \tscore:  -1.0000 \tavg score:  -1.0000 \tBest score:  -1.0000 Obj:  335000 \tAvg obj:   223714 \tBest obj: 95802.0\n",
      "iteration:       66 \tepsiode:  6000 \tscore:  -1.0000 \tavg score:  -1.0000 \tBest score:  -1.0000 Obj:  221591 \tAvg obj:   236610 \tBest obj: 95802.0\n",
      "iteration:       68 \tepsiode:  6150 \tscore:  -1.0000 \tavg score:  -1.0000 \tBest score:  -1.0000 Obj:  182723 \tAvg obj:   212586 \tBest obj: 95802.0\n",
      "iteration:       69 \tepsiode:  6300 \tscore:  -1.0000 \tavg score:  -1.0000 \tBest score:  -1.0000 Obj:  195247 \tAvg obj:   215306 \tBest obj: 92616.0\n",
      "iteration:       71 \tepsiode:  6450 \tscore:  -1.0000 \tavg score:  -1.0000 \tBest score:  -1.0000 Obj:  185569 \tAvg obj:   208698 \tBest obj: 92616.0\n",
      "iteration:       73 \tepsiode:  6600 \tscore:  -1.0000 \tavg score:  -1.0000 \tBest score:  -1.0000 Obj:  145782 \tAvg obj:   235912 \tBest obj: 92616.0\n",
      "iteration:       74 \tepsiode:  6750 \tscore:  -1.0000 \tavg score:  -1.0000 \tBest score:  -1.0000 Obj:  239333 \tAvg obj:   234770 \tBest obj: 92616.0\n",
      "iteration:       76 \tepsiode:  6900 \tscore:  -1.0000 \tavg score:  -1.0000 \tBest score:  -1.0000 Obj:  270724 \tAvg obj:   226085 \tBest obj: 92616.0\n",
      "iteration:       78 \tepsiode:  7050 \tscore:  -1.0000 \tavg score:  -1.0000 \tBest score:  -1.0000 Obj:  212278 \tAvg obj:   229787 \tBest obj: 92616.0\n",
      "iteration:       79 \tepsiode:  7200 \tscore:  -1.0000 \tavg score:  -1.0000 \tBest score:  -1.0000 Obj:  202633 \tAvg obj:   240376 \tBest obj: 92616.0\n",
      "iteration:       81 \tepsiode:  7350 \tscore:  -1.0000 \tavg score:  -1.0000 \tBest score:  -1.0000 Obj:  157817 \tAvg obj:   223545 \tBest obj: 92616.0\n",
      "iteration:       83 \tepsiode:  7500 \tscore:  -1.0000 \tavg score:  -1.0000 \tBest score:  -1.0000 Obj:  266573 \tAvg obj:   232189 \tBest obj: 92616.0\n",
      "iteration:       84 \tepsiode:  7650 \tscore:  -1.0000 \tavg score:  -1.0000 \tBest score:  -1.0000 Obj:  182038 \tAvg obj:   225921 \tBest obj: 92616.0\n",
      "iteration:       86 \tepsiode:  7800 \tscore:  -1.0000 \tavg score:  -1.0000 \tBest score:  -1.0000 Obj:  187442 \tAvg obj:   221149 \tBest obj: 92616.0\n",
      "iteration:       88 \tepsiode:  7950 \tscore:  -1.0000 \tavg score:  -1.0000 \tBest score:  -1.0000 Obj:  138880 \tAvg obj:   207351 \tBest obj: 92616.0\n",
      "iteration:       89 \tepsiode:  8100 \tscore:  -1.0000 \tavg score:  -1.0000 \tBest score:  -1.0000 Obj:  315993 \tAvg obj:   221160 \tBest obj: 92616.0\n",
      "iteration:       91 \tepsiode:  8250 \tscore:  -1.0000 \tavg score:  -1.0000 \tBest score:  -1.0000 Obj:  167785 \tAvg obj:   218596 \tBest obj: 92616.0\n",
      "iteration:       93 \tepsiode:  8400 \tscore:  -1.0000 \tavg score:  -1.0000 \tBest score:  -1.0000 Obj:  198122 \tAvg obj:   217650 \tBest obj: 92616.0\n",
      "iteration:       94 \tepsiode:  8550 \tscore:  -1.0000 \tavg score:  -1.0000 \tBest score:  -1.0000 Obj:  336280 \tAvg obj:   228358 \tBest obj: 92616.0\n",
      "iteration:       96 \tepsiode:  8700 \tscore:  -1.0000 \tavg score:  -1.0000 \tBest score:  -1.0000 Obj:  317686 \tAvg obj:   225954 \tBest obj: 92616.0\n",
      "iteration:       98 \tepsiode:  8850 \tscore:  -1.0000 \tavg score:  -1.0000 \tBest score:  -1.0000 Obj:  431133 \tAvg obj:   220454 \tBest obj: 92616.0\n",
      "iteration:       99 \tepsiode:  9000 \tscore:  -1.0000 \tavg score:  -1.0000 \tBest score:  -1.0000 Obj:  190274 \tAvg obj:   223662 \tBest obj: 92616.0\n",
      "iteration:      101 \tepsiode:  9150 \tscore:  -1.0000 \tavg score:  -1.0000 \tBest score:  -1.0000 Obj:  166297 \tAvg obj:   219880 \tBest obj: 92616.0\n",
      "iteration:      103 \tepsiode:  9300 \tscore:  -1.0000 \tavg score:  -1.0000 \tBest score:  -1.0000 Obj:  195162 \tAvg obj:   209533 \tBest obj: 92616.0\n",
      "iteration:      104 \tepsiode:  9450 \tscore:  -1.0000 \tavg score:  -1.0000 \tBest score:  -1.0000 Obj:  331349 \tAvg obj:   231066 \tBest obj: 92616.0\n"
     ]
    },
    {
     "ename": "KeyboardInterrupt",
     "evalue": "",
     "output_type": "error",
     "traceback": [
      "\u001b[1;31m---------------------------------------------------------------------------\u001b[0m",
      "\u001b[1;31mKeyboardInterrupt\u001b[0m                         Traceback (most recent call last)",
      "Cell \u001b[1;32mIn [10], line 29\u001b[0m\n\u001b[0;32m     26\u001b[0m     agent \u001b[38;5;241m=\u001b[39m Agent(net, device\u001b[38;5;241m=\u001b[39mdevice, lr\u001b[38;5;241m=\u001b[39m\u001b[38;5;241m0.01\u001b[39m, name\u001b[38;5;241m=\u001b[39m\u001b[38;5;124mf\u001b[39m\u001b[38;5;124m'\u001b[39m\u001b[38;5;124mp_med_\u001b[39m\u001b[38;5;132;01m{\u001b[39;00mi\u001b[38;5;132;01m}\u001b[39;00m\u001b[38;5;124m'\u001b[39m, results_path\u001b[38;5;241m=\u001b[39mresults_path, epsilon \u001b[38;5;241m=\u001b[39m \u001b[38;5;241m0.3\u001b[39m, td_steps\u001b[38;5;241m=\u001b[39menv_p, lr_decay\u001b[38;5;241m=\u001b[39m\u001b[38;5;241m0.8\u001b[39m)\n\u001b[0;32m     28\u001b[0m     \u001b[38;5;66;03m# with profile(activities=[ProfilerActivity.CPU, ProfilerActivity.CUDA], with_stack=True) as prof:\u001b[39;00m\n\u001b[1;32m---> 29\u001b[0m     \u001b[43magent\u001b[49m\u001b[38;5;241;43m.\u001b[39;49m\u001b[43mtrain\u001b[49m\u001b[43m(\u001b[49m\u001b[43menv\u001b[49m\u001b[38;5;241;43m=\u001b[39;49m\u001b[43menv\u001b[49m\u001b[43m,\u001b[49m\u001b[43m \u001b[49m\u001b[43mcount_of_envs\u001b[49m\u001b[38;5;241;43m=\u001b[39;49m\u001b[43menv_count\u001b[49m\u001b[43m,\u001b[49m\u001b[43m \u001b[49m\u001b[43minput_dim\u001b[49m\u001b[38;5;241;43m=\u001b[39;49m\u001b[43m(\u001b[49m\u001b[43menv_candidates\u001b[49m\u001b[43m,\u001b[49m\u001b[43m)\u001b[49m\u001b[43m,\u001b[49m\n\u001b[0;32m     30\u001b[0m \u001b[43m                \u001b[49m\u001b[43mcount_of_iterations\u001b[49m\u001b[38;5;241;43m=\u001b[39;49m\u001b[38;5;241;43m400\u001b[39;49m\u001b[43m,\u001b[49m\u001b[43m \u001b[49m\u001b[43mcount_of_steps\u001b[49m\u001b[38;5;241;43m=\u001b[39;49m\u001b[38;5;241;43m3\u001b[39;49m\u001b[43m \u001b[49m\u001b[38;5;241;43m*\u001b[39;49m\u001b[43m \u001b[49m\u001b[43menv_p\u001b[49m\u001b[43m,\u001b[49m\u001b[43m \u001b[49m\u001b[43mbatch_size\u001b[49m\u001b[38;5;241;43m=\u001b[39;49m\u001b[38;5;241;43m3\u001b[39;49m\u001b[43m \u001b[49m\u001b[38;5;241;43m*\u001b[39;49m\u001b[43m \u001b[49m\u001b[43menv_p\u001b[49m\u001b[43m)\u001b[49m\n\u001b[0;32m     32\u001b[0m     \u001b[38;5;66;03m# prof.export_chrome_trace(\"trace.json\")\u001b[39;00m\n\u001b[0;32m     33\u001b[0m     \u001b[38;5;66;03m# agent.test(env)\u001b[39;00m\n\u001b[0;32m     35\u001b[0m \u001b[38;5;28mprint\u001b[39m(datetime\u001b[38;5;241m.\u001b[39mdatetime\u001b[38;5;241m.\u001b[39mnow() \u001b[38;5;241m-\u001b[39m start_date)\n",
      "File \u001b[1;32md:\\Documents\\python\\diplomka\\ppo.py:100\u001b[0m, in \u001b[0;36mAgent.train\u001b[1;34m(self, env, input_dim, count_of_envs, count_of_iterations, count_of_steps, batch_size, count_of_epochs, first_iteration, seed)\u001b[0m\n\u001b[0;32m     97\u001b[0m     logits, values \u001b[39m=\u001b[39m \u001b[39mself\u001b[39m\u001b[39m.\u001b[39mmodel(observations\u001b[39m.\u001b[39mto(\u001b[39mself\u001b[39m\u001b[39m.\u001b[39mdevice))\n\u001b[0;32m     99\u001b[0m \u001b[39m#==== MASKING =====\u001b[39;00m\n\u001b[1;32m--> 100\u001b[0m mem_mask[step] \u001b[39m=\u001b[39m mask\n\u001b[0;32m    101\u001b[0m logits \u001b[39m=\u001b[39m torch\u001b[39m.\u001b[39mwhere(mask \u001b[39m==\u001b[39m \u001b[39m1.\u001b[39m, logits, torch\u001b[39m.\u001b[39mtensor(\u001b[39m-\u001b[39m\u001b[39m1e+8\u001b[39m)\u001b[39m.\u001b[39mto(\u001b[39mself\u001b[39m\u001b[39m.\u001b[39mdevice))\n\u001b[0;32m    102\u001b[0m \u001b[39m#==== MASKING =====\u001b[39;00m\n",
      "\u001b[1;31mKeyboardInterrupt\u001b[0m: "
     ]
    }
   ],
   "source": [
    "import importlib\n",
    "from env_parallel import Env\n",
    "from ppo import Agent\n",
    "\n",
    "device = torch.device(\"cuda\" if torch.cuda.is_available() else \"cpu\")\n",
    "print('device: ', device)\n",
    "start_date = datetime.datetime.now()\n",
    "\n",
    "# CONFIG\n",
    "env_candidates = 315\n",
    "env_p = 63\n",
    "env_count = 30\n",
    "results_path = 'results/'\n",
    "run_count = 1\n",
    "# END\n",
    "\n",
    "\n",
    "dataset_results = json.load(open('data/results.json'))\n",
    "\n",
    "env = Env(env_p, env_candidates, env_count, f'data/{dataset_results[str(env_candidates)][\"short\"]}-{env_candidates}', device)\n",
    "\n",
    "for i in range(run_count):\n",
    "    net = PolicyValueModel(env_candidates, 64)\n",
    "    # net = torch.load('models/save.net')\n",
    "\n",
    "    agent = Agent(net, device=device, lr=0.01, name=f'p_med_{i}', results_path=results_path, epsilon = 0.3, td_steps=env_p, lr_decay=0.8)\n",
    "\n",
    "    # with profile(activities=[ProfilerActivity.CPU, ProfilerActivity.CUDA], with_stack=True) as prof:\n",
    "    agent.train(env=env, count_of_envs=env_count, input_dim=(env_candidates,),\n",
    "                count_of_iterations=400, count_of_steps=3 * env_p, batch_size=3 * env_p)\n",
    "\n",
    "    # prof.export_chrome_trace(\"trace.json\")\n",
    "    # agent.test(env)\n",
    "\n",
    "print(datetime.datetime.now() - start_date)\n"
   ]
  },
  {
   "cell_type": "code",
   "execution_count": null,
   "metadata": {},
   "outputs": [],
   "source": [
    "# prof.export_stacks('stacks.txt')\n",
    "# prof.export_chrome_trace(\"trace.json\")"
   ]
  },
  {
   "cell_type": "code",
   "execution_count": null,
   "metadata": {},
   "outputs": [
    {
     "ename": "KeyError",
     "evalue": "'8'",
     "output_type": "error",
     "traceback": [
      "\u001b[1;31m---------------------------------------------------------------------------\u001b[0m",
      "\u001b[1;31mKeyError\u001b[0m                                  Traceback (most recent call last)",
      "Cell \u001b[1;32mIn [5], line 10\u001b[0m\n\u001b[0;32m      6\u001b[0m rcParams\u001b[38;5;241m.\u001b[39mupdate({\u001b[38;5;124m'\u001b[39m\u001b[38;5;124mfont.size\u001b[39m\u001b[38;5;124m'\u001b[39m: \u001b[38;5;241m18\u001b[39m})\n\u001b[0;32m      8\u001b[0m dataset_results \u001b[38;5;241m=\u001b[39m json\u001b[38;5;241m.\u001b[39mload(\u001b[38;5;28mopen\u001b[39m(\u001b[38;5;124m'\u001b[39m\u001b[38;5;124mdata/results.json\u001b[39m\u001b[38;5;124m'\u001b[39m))\n\u001b[1;32m---> 10\u001b[0m optimalne \u001b[38;5;241m=\u001b[39m \u001b[43mdataset_results\u001b[49m\u001b[43m[\u001b[49m\u001b[38;5;28;43mstr\u001b[39;49m\u001b[43m(\u001b[49m\u001b[43menv_candidates\u001b[49m\u001b[43m)\u001b[49m\u001b[43m]\u001b[49m\u001b[43m[\u001b[49m\u001b[38;5;28;43mstr\u001b[39;49m\u001b[43m(\u001b[49m\u001b[43menv_p\u001b[49m\u001b[43m)\u001b[49m\u001b[43m]\u001b[49m\n\u001b[0;32m     11\u001b[0m plt\u001b[38;5;241m.\u001b[39mtitle(\u001b[38;5;124mf\u001b[39m\u001b[38;5;124m'\u001b[39m\u001b[38;5;124mc=\u001b[39m\u001b[38;5;132;01m{\u001b[39;00menv_candidates\u001b[38;5;132;01m}\u001b[39;00m\u001b[38;5;124m p=\u001b[39m\u001b[38;5;132;01m{\u001b[39;00menv_p\u001b[38;5;132;01m}\u001b[39;00m\u001b[38;5;124m env=\u001b[39m\u001b[38;5;132;01m{\u001b[39;00menv_count\u001b[38;5;132;01m}\u001b[39;00m\u001b[38;5;124m Vektor\u001b[39m\u001b[38;5;124m'\u001b[39m)\n\u001b[0;32m     12\u001b[0m plt\u001b[38;5;241m.\u001b[39maxhline(y\u001b[38;5;241m=\u001b[39moptimalne, color\u001b[38;5;241m=\u001b[39m\u001b[38;5;124m'\u001b[39m\u001b[38;5;124mr\u001b[39m\u001b[38;5;124m'\u001b[39m, label\u001b[38;5;241m=\u001b[39m\u001b[38;5;124mf\u001b[39m\u001b[38;5;124m'\u001b[39m\u001b[38;5;124mOptimalne riesenie (\u001b[39m\u001b[38;5;132;01m{\u001b[39;00moptimalne\u001b[38;5;132;01m}\u001b[39;00m\u001b[38;5;124m)\u001b[39m\u001b[38;5;124m'\u001b[39m)\n",
      "\u001b[1;31mKeyError\u001b[0m: '8'"
     ]
    }
   ],
   "source": [
    "import pandas as pd\n",
    "import matplotlib.pyplot as plt\n",
    "import json\n",
    "from pylab import rcParams\n",
    "rcParams['figure.figsize'] = 15, 10\n",
    "rcParams.update({'font.size': 18})\n",
    "\n",
    "dataset_results = json.load(open('data/results.json'))\n",
    "\n",
    "optimalne = dataset_results[str(env_candidates)][str(env_p)]\n",
    "plt.title(f'c={env_candidates} p={env_p} env={env_count} Vektor')\n",
    "plt.axhline(y=optimalne, color='r', label=f'Optimalne riesenie ({optimalne})')\n",
    "for i in range(run_count):\n",
    "    data = pd.read_csv(f'results/p_med_{i}.csv')\n",
    "    d = data['avg_obj']\n",
    "    plt.plot(data['episode'], d, linewidth=3, label=f'Trenovanie')\n",
    "\n",
    "    plt.yticks(list(plt.yticks()[0]) + [optimalne])\n",
    "    \n",
    "    obj = json.load(open(f'results/p_med_{i}_result.json'))\n",
    "\n",
    "    plt.scatter(obj['episode'], obj['best_obj'], linewidths=5, label=f'Min ({obj[\"best_obj\"]})')\n",
    "    plt.annotate(obj['best_obj'], (obj['episode'], obj['best_obj']), fontsize=12)\n",
    "\n",
    "plt.legend()"
   ]
  },
  {
   "cell_type": "code",
   "execution_count": null,
   "metadata": {},
   "outputs": [
    {
     "data": {
      "text/plain": [
       "8"
      ]
     },
     "execution_count": 12,
     "metadata": {},
     "output_type": "execute_result"
    }
   ],
   "source": [
    "p = [0, 0, 1, 0, 0, 0, 0, 0, 0, 0, 0, 0, 0, 0, 0, 0, 0, 0, 0, 0, 0, 0, 0, 0, 0, 0, 0, 0, 0, 0, 0, 0, 0, 0, 0, 0, 0, 0, 0, 0, 0, 0, 0, 0, 0, 0, 0, 1, 0, 1, 1, 0, 0, 0, 0, 0, 0, 0, 0, 0, 0, 0, 0, 0, 0, 0, 0, 0, 0, 0, 0, 0, 0, 0, 0, 0, 0, 1, 1, 0, 0, 0, 0, 1, 0, 1, 0]\n",
    "np.sum(p)"
   ]
  },
  {
   "cell_type": "code",
   "execution_count": null,
   "metadata": {},
   "outputs": [
    {
     "ename": "NameError",
     "evalue": "name 'prof' is not defined",
     "output_type": "error",
     "traceback": [
      "\u001b[1;31m---------------------------------------------------------------------------\u001b[0m",
      "\u001b[1;31mNameError\u001b[0m                                 Traceback (most recent call last)",
      "Cell \u001b[1;32mIn [13], line 1\u001b[0m\n\u001b[1;32m----> 1\u001b[0m \u001b[38;5;28mprint\u001b[39m(\u001b[43mprof\u001b[49m\u001b[38;5;241m.\u001b[39mkey_averages(group_by_stack_n\u001b[38;5;241m=\u001b[39m\u001b[38;5;241m5\u001b[39m)\u001b[38;5;241m.\u001b[39mtable(sort_by\u001b[38;5;241m=\u001b[39m\u001b[38;5;124m\"\u001b[39m\u001b[38;5;124mself_cuda_time_total\u001b[39m\u001b[38;5;124m\"\u001b[39m, row_limit\u001b[38;5;241m=\u001b[39m\u001b[38;5;241m2\u001b[39m))\n",
      "\u001b[1;31mNameError\u001b[0m: name 'prof' is not defined"
     ]
    }
   ],
   "source": [
    "print(prof.key_averages(group_by_stack_n=5).table(sort_by=\"self_cuda_time_total\", row_limit=2))"
   ]
  }
 ],
 "metadata": {
  "kernelspec": {
   "display_name": "Python 3.9.0 64-bit",
   "language": "python",
   "name": "python3"
  },
  "language_info": {
   "codemirror_mode": {
    "name": "ipython",
    "version": 3
   },
   "file_extension": ".py",
   "mimetype": "text/x-python",
   "name": "python",
   "nbconvert_exporter": "python",
   "pygments_lexer": "ipython3",
   "version": "3.9.0"
  },
  "orig_nbformat": 4,
  "vscode": {
   "interpreter": {
    "hash": "1008b170c70e052a72c8c62333d63b87e531d930f3681fba972b7ce30eb3f430"
   }
  }
 },
 "nbformat": 4,
 "nbformat_minor": 2
}
