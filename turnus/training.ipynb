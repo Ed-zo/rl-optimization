{
 "cells": [
  {
   "cell_type": "code",
   "execution_count": 1,
   "metadata": {},
   "outputs": [],
   "source": [
    "import torch\n",
    "import torch.nn.functional as F\n",
    "import torch.nn as nn\n",
    "from torch_geometric.nn import GCNConv\n",
    "\n",
    "class GCN(torch.nn.Module):\n",
    "    def __init__(self, graph):\n",
    "        super().__init__()\n",
    "        self.conv1 = GCNConv(graph.num_node_features, 16)\n",
    "        self.conv2 = GCNConv(16, 16)\n",
    "\n",
    "        self.fc_p1 = nn.Linear(16, 16)\n",
    "        self.fc_p2 = nn.Linear(16, graph.num_nodes)\n",
    "\n",
    "        self.fc_v1 = nn.Linear(16, 16)\n",
    "        self.fc_v2 = nn.Linear(16, 1)\n",
    "\n",
    "        features_layers = []  # [self.conv1, self.conv2]\n",
    "        for layer in features_layers:\n",
    "            torch.nn.init.xavier_normal_(layer.weight)\n",
    "            torch.nn.init.zeros_(layer.bias)\n",
    "\n",
    "        output_layers = [self.fc_p1, self.fc_p2, self.fc_v1, self.fc_v2]\n",
    "        for layer in output_layers:\n",
    "            torch.nn.init.xavier_normal_(layer.weight)\n",
    "            torch.nn.init.zeros_(layer.bias)\n",
    "\n",
    "\n",
    "    def forward(self, data):\n",
    "        x, edge_index = data.x, data.edge_index\n",
    "\n",
    "        x = self.conv1(x, edge_index)\n",
    "        x = F.relu(x)\n",
    "        x = F.dropout(x, training=self.training)\n",
    "        x = self.conv2(x, edge_index)\n",
    "        x = F.relu(x)\n",
    "\n",
    "        x = F.relu(self.fc_p1(x))\n",
    "        X = self.fc_p2(x)\n",
    "\n",
    "        v = F.relu(self.fc_v1(x))\n",
    "        V = self.fc_v2(v)\n",
    "\n",
    "        return X, V"
   ]
  },
  {
   "cell_type": "code",
   "execution_count": 86,
   "metadata": {},
   "outputs": [
    {
     "name": "stdout",
     "output_type": "stream",
     "text": [
      "The autoreload extension is already loaded. To reload it, use:\n",
      "  %reload_ext autoreload\n"
     ]
    }
   ],
   "source": [
    "%load_ext autoreload"
   ]
  },
  {
   "cell_type": "code",
   "execution_count": null,
   "metadata": {},
   "outputs": [],
   "source": [
    "None < 0"
   ]
  },
  {
   "cell_type": "code",
   "execution_count": 2,
   "metadata": {},
   "outputs": [
    {
     "name": "stdout",
     "output_type": "stream",
     "text": [
      "device:  cuda\n",
      "optimizer: Adam\n",
      "Training is starting\n"
     ]
    },
    {
     "ename": "",
     "evalue": "",
     "output_type": "error",
     "traceback": [
      "\u001b[1;31mThe Kernel crashed while executing code in the the current cell or a previous cell. Please review the code in the cell(s) to identify a possible cause of the failure. Click <a href='https://aka.ms/vscodeJupyterKernelCrash'>here</a> for more info. View Jupyter <a href='command:jupyter.viewOutput'>log</a> for further details."
     ]
    }
   ],
   "source": [
    "import torch\n",
    "import torch.nn as nn\n",
    "import datetime\n",
    "import torch.nn.functional as F\n",
    "from ppo_parallel import Agent\n",
    "import torch.nn.init as init\n",
    "import numpy as np\n",
    "import signal\n",
    "from env import Env\n",
    "import graph_utils\n",
    "\n",
    "device = torch.device(\"cuda\" if torch.cuda.is_available() else \"cpu\")\n",
    "print('device: ', device)\n",
    "start_date = datetime.datetime.now()\n",
    "graph = graph_utils.load_graph('data/1')\n",
    "\n",
    "env = Env(graph, device)\n",
    "\n",
    "net = GCN(graph)\n",
    "# net = torch.load('models/p_med_last.pt')\n",
    "\n",
    "agent = Agent(net, 'Adam', device=device, name='ppo', path='results')\n",
    "\n",
    "agent.train([graph, device], Env, graph.num_nodes)\n",
    "\n",
    "# torch.save(net, 'models/save.net')\n"
   ]
  },
  {
   "cell_type": "code",
   "execution_count": 84,
   "metadata": {},
   "outputs": [
    {
     "ename": "ValueError",
     "evalue": "attempt to assign sequence of size 2 to extended slice of size 3",
     "output_type": "error",
     "traceback": [
      "\u001b[1;31m---------------------------------------------------------------------------\u001b[0m",
      "\u001b[1;31mValueError\u001b[0m                                Traceback (most recent call last)",
      "\u001b[1;32md:\\Documents\\experimenty\\rl-optimization\\turnus\\training.ipynb Cell 4\u001b[0m line \u001b[0;36m6\n\u001b[0;32m      <a href='vscode-notebook-cell:/d%3A/Documents/experimenty/rl-optimization/turnus/training.ipynb#W4sZmlsZQ%3D%3D?line=1'>2</a>\u001b[0m \u001b[39mfrom\u001b[39;00m \u001b[39mgraph_store\u001b[39;00m \u001b[39mimport\u001b[39;00m GraphStore\n\u001b[0;32m      <a href='vscode-notebook-cell:/d%3A/Documents/experimenty/rl-optimization/turnus/training.ipynb#W4sZmlsZQ%3D%3D?line=3'>4</a>\u001b[0m store \u001b[39m=\u001b[39m GraphStore((\u001b[39m2\u001b[39m, \u001b[39m3\u001b[39m, \u001b[39m2\u001b[39m))\n\u001b[1;32m----> <a href='vscode-notebook-cell:/d%3A/Documents/experimenty/rl-optimization/turnus/training.ipynb#W4sZmlsZQ%3D%3D?line=5'>6</a>\u001b[0m store[\u001b[39m0\u001b[39;49m, :, :] \u001b[39m=\u001b[39m [\u001b[39m1\u001b[39m, \u001b[39m2\u001b[39m]\n\u001b[0;32m      <a href='vscode-notebook-cell:/d%3A/Documents/experimenty/rl-optimization/turnus/training.ipynb#W4sZmlsZQ%3D%3D?line=7'>8</a>\u001b[0m store\n",
      "File \u001b[1;32md:\\Documents\\experimenty\\rl-optimization\\turnus\\graph_store.py:59\u001b[0m, in \u001b[0;36mGraphStore.__setitem__\u001b[1;34m(self, key, value)\u001b[0m\n\u001b[0;32m     57\u001b[0m             \u001b[39mself\u001b[39m[i][nextKey] \u001b[39m=\u001b[39m value[i]\n\u001b[0;32m     58\u001b[0m \u001b[39melif\u001b[39;00m \u001b[39misinstance\u001b[39m(\u001b[39mself\u001b[39m\u001b[39m.\u001b[39mdata[key], GraphStore):\n\u001b[1;32m---> 59\u001b[0m     \u001b[39mself\u001b[39;49m\u001b[39m.\u001b[39;49mdata[key][nextKey] \u001b[39m=\u001b[39m value\n\u001b[0;32m     60\u001b[0m \u001b[39melif\u001b[39;00m \u001b[39mself\u001b[39m\u001b[39m.\u001b[39m__leaf:\n\u001b[0;32m     61\u001b[0m     \u001b[39mself\u001b[39m\u001b[39m.\u001b[39mdata[key] \u001b[39m=\u001b[39m value\n",
      "File \u001b[1;32md:\\Documents\\experimenty\\rl-optimization\\turnus\\graph_store.py:51\u001b[0m, in \u001b[0;36mGraphStore.__setitem__\u001b[1;34m(self, key, value)\u001b[0m\n\u001b[0;32m     48\u001b[0m rng \u001b[39m=\u001b[39m \u001b[39mrange\u001b[39m(\u001b[39m*\u001b[39mkey\u001b[39m.\u001b[39mindices(\u001b[39mself\u001b[39m\u001b[39m.\u001b[39msize))\n\u001b[0;32m     50\u001b[0m \u001b[39mif\u001b[39;00m \u001b[39mlen\u001b[39m(value) \u001b[39m!=\u001b[39m \u001b[39mlen\u001b[39m(rng):\n\u001b[1;32m---> 51\u001b[0m     \u001b[39mraise\u001b[39;00m \u001b[39mValueError\u001b[39;00m(\u001b[39m'\u001b[39m\u001b[39mattempt to assign sequence of size \u001b[39m\u001b[39m{}\u001b[39;00m\u001b[39m to extended slice of size \u001b[39m\u001b[39m{}\u001b[39;00m\u001b[39m'\u001b[39m\u001b[39m.\u001b[39mformat(\u001b[39mlen\u001b[39m(value), \u001b[39mlen\u001b[39m(rng)))\n\u001b[0;32m     53\u001b[0m \u001b[39mfor\u001b[39;00m i \u001b[39min\u001b[39;00m rng:\n\u001b[0;32m     54\u001b[0m     \u001b[39mif\u001b[39;00m nextKey \u001b[39mis\u001b[39;00m \u001b[39mNone\u001b[39;00m:\n",
      "\u001b[1;31mValueError\u001b[0m: attempt to assign sequence of size 2 to extended slice of size 3"
     ]
    }
   ],
   "source": [
    "%autoreload 2\n",
    "from graph_store import GraphStore\n",
    "\n",
    "store = GraphStore((2, 3, 2))\n",
    "\n",
    "store[0, :, :] = [1, 2]\n",
    "\n",
    "store"
   ]
  },
  {
   "cell_type": "code",
   "execution_count": 74,
   "metadata": {},
   "outputs": [
    {
     "data": {
      "text/plain": [
       "10"
      ]
     },
     "execution_count": 74,
     "metadata": {},
     "output_type": "execute_result"
    }
   ],
   "source": [
    "len(range(*slice(None, None, None).indices(10)))"
   ]
  },
  {
   "cell_type": "code",
   "execution_count": 2,
   "metadata": {},
   "outputs": [
    {
     "data": {
      "text/plain": [
       "[<matplotlib.lines.Line2D at 0x7f8a2b9d97f0>]"
      ]
     },
     "execution_count": 2,
     "metadata": {},
     "output_type": "execute_result"
    },
    {
     "data": {
      "image/png": "[encoded data removed]",
      "text/plain": [
       "<Figure size 640x480 with 1 Axes>"
      ]
     },
     "metadata": {},
     "output_type": "display_data"
    }
   ],
   "source": [
    "import pandas as pd\n",
    "import matplotlib.pyplot as plt\n",
    "\n",
    "df = pd.read_csv('results/data/ppo_1.txt')\n",
    "plt.plot(df['episode'], df['avg_score'])"
   ]
  }
 ],
 "metadata": {
  "kernelspec": {
   "display_name": "Python 3",
   "language": "python",
   "name": "python3"
  },
  "language_info": {
   "codemirror_mode": {
    "name": "ipython",
    "version": 3
   },
   "file_extension": ".py",
   "mimetype": "text/x-python",
   "name": "python",
   "nbconvert_exporter": "python",
   "pygments_lexer": "ipython3",
   "version": "3.8.0"
  },
  "orig_nbformat": 4
 },
 "nbformat": 4,
 "nbformat_minor": 2
}
