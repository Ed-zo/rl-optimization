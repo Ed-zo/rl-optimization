{
 "cells": [
  {
   "cell_type": "code",
   "execution_count": 2,
   "metadata": {},
   "outputs": [
    {
     "name": "stdout",
     "output_type": "stream",
     "text": [
      "[WinError 2] The system cannot find the file specified: 'turnus'\n",
      "m:\\Documents\\FRI\\phd\\rl-optimization\\turnus\n"
     ]
    }
   ],
   "source": [
    "%cd turnus"
   ]
  },
  {
   "cell_type": "code",
   "execution_count": 3,
   "metadata": {},
   "outputs": [],
   "source": [
    "import torch\n",
    "import pandas as pd\n",
    "import numpy as np\n",
    "\n",
    "def load_node_csv(path: str, index_col: str, encoders=None, **kwargs):\n",
    "    df = pd.read_csv(path, index_col=index_col, **kwargs)\n",
    "    mapping = {index: i for i, index in enumerate(df.index.unique())}\n",
    "\n",
    "    x = None\n",
    "    if encoders is not None:\n",
    "        xs = [encoder(df[col]) for col, encoder in encoders.items()]\n",
    "        x = torch.cat(xs, dim=-1)\n",
    "        df = df[encoders.keys()].copy()\n",
    "\n",
    "    return x, mapping, df\n",
    "\n",
    "def build_edge_connections(time_matrix_path: str, start_times: np.array, finish_times: np.array, delimiter=';'):\n",
    "    matrix = np.loadtxt(time_matrix_path, delimiter=delimiter)\n",
    "    # Add the transport times (matrix) to the finishing time of every task\n",
    "    transport_times = matrix + np.expand_dims(finish_times, axis=-1)\n",
    "\n",
    "    possible_connection = np.where(transport_times <= start_times)\n",
    "\n",
    "    return torch.tensor(np.array(possible_connection))\n"
   ]
  },
  {
   "cell_type": "code",
   "execution_count": 4,
   "metadata": {},
   "outputs": [],
   "source": [
    "class IdentityEncoder:\n",
    "    def __init__(self, dtype=None):\n",
    "        self.dtype = dtype\n",
    "\n",
    "    def __call__(self, df):\n",
    "        return torch.from_numpy(df.values).view(-1, 1).to(self.dtype)"
   ]
  },
  {
   "cell_type": "code",
   "execution_count": 5,
   "metadata": {},
   "outputs": [],
   "source": [
    "# Normalize and convert dataframe column (Series) into a tensor\n",
    "class NumberNormEncoder:\n",
    "    def __init__(self, dtype=None):\n",
    "        self.dtype = dtype\n",
    "\n",
    "    def __call__(self, df):\n",
    "        return torch.from_numpy(((df - df.mean()) / df.std()).values).view(-1, 1).to(self.dtype)"
   ]
  },
  {
   "cell_type": "code",
   "execution_count": 6,
   "metadata": {},
   "outputs": [
    {
     "name": "stderr",
     "output_type": "stream",
     "text": [
      "C:\\Users\\David\\AppData\\Roaming\\Python\\Python37\\site-packages\\ipykernel_launcher.py:24: UserWarning: Creating a tensor from a list of numpy.ndarrays is extremely slow. Please consider converting the list to a single numpy.ndarray with numpy.array() before converting to a tensor. (Triggered internally at C:\\actions-runner\\_work\\pytorch\\pytorch\\builder\\windows\\pytorch\\torch\\csrc\\utils\\tensor_new.cpp:233.)\n"
     ]
    },
    {
     "data": {
      "text/plain": [
       "Data(x=[51, 6], edge_index=[2, 1195])"
      ]
     },
     "execution_count": 6,
     "metadata": {},
     "output_type": "execute_result"
    }
   ],
   "source": [
    "from torch_geometric.data import Data\n",
    "import torch_geometric.transforms as T\n",
    "\n",
    "nodes, mapping, df = load_node_csv('data/1/tasks.csv', 'Index', \n",
    "                               {name: NumberNormEncoder() for name in ['ZastavkaStart', 'ZastavkaFinish', 'CasStart', 'CasFinish', 'Vzdialenost']}, \n",
    "                               sep=';')\n",
    "\n",
    "# extra_features = torch.zeros((nodes.shape[0], 1))\n",
    "\n",
    "# nodes = torch.cat((nodes, extra_features), 1)\n",
    "\n",
    "edge_connections = build_edge_connections('data/1/Tij.csv', df['CasStart'].values, df['CasFinish'].values)\n",
    "\n",
    "data = Data(x=nodes, edge_index=edge_connections)\n",
    "\n",
    "c = T.Constant(0)\n",
    "\n",
    "\n",
    "data = c(data)\n",
    "data.x[0, 5] = 1\n",
    "\n",
    "data"
   ]
  },
  {
   "cell_type": "code",
   "execution_count": 43,
   "metadata": {},
   "outputs": [
    {
     "data": {
      "text/plain": [
       "[{'x': tensor([[-4.1161, -3.8783, -1.4623, -1.5567, -3.6148,  0.0000],\n",
       "         [ 0.7066, -0.1244, -1.2705, -1.2716,  0.4634,  0.0000],\n",
       "         [ 0.7066, -0.1244, -1.2233, -1.2240,  0.4634,  0.0000],\n",
       "         [ 0.7066, -0.1244, -1.2076, -1.2082,  0.4634,  0.0000],\n",
       "         [-0.0972,  0.7818, -1.1888, -1.1987, -0.0700,  0.0000],\n",
       "         [-0.2312,  0.7818, -1.1699, -1.1670,  0.4072,  0.0000],\n",
       "         [-0.2312,  0.7818, -1.1070, -1.1036,  0.4072,  0.0000],\n",
       "         [ 0.7066, -0.1244, -1.0976, -1.0973,  0.4634,  0.0000],\n",
       "         [ 0.7066, -0.1244, -1.0504, -1.0498,  0.4634,  0.0000],\n",
       "         [-0.2312,  0.7818, -1.0127, -1.0086,  0.4072,  0.0000],\n",
       "         [ 0.7066, -0.1244, -0.9970, -0.9959,  0.4634,  0.0000],\n",
       "         [-0.2312,  0.7818, -0.9812, -0.9769,  0.4072,  0.0000],\n",
       "         [-0.2312,  0.7818, -0.9184, -0.9135,  0.4072,  0.0000],\n",
       "         [ 0.7066, -0.1244, -0.9089, -0.9072,  0.4634,  0.0000],\n",
       "         [-0.2312,  0.7818, -0.8806, -0.8755,  0.4072,  0.0000],\n",
       "         [ 0.7066, -0.1244, -0.8618, -0.8597,  0.4634,  0.0000],\n",
       "         [ 0.7066, -0.1244, -0.8146, -0.8121,  0.4634,  0.0000],\n",
       "         [-0.2312,  0.7818, -0.8083, -0.8026,  0.4072,  0.0000],\n",
       "         [-0.2312, -1.1599, -0.6983, -0.7361, -1.4239,  0.0000],\n",
       "         [-0.2312,  0.7818, -0.6040, -0.5967,  0.4072,  0.0000],\n",
       "         [ 0.7066, -0.1244, -0.4719, -0.4668,  0.4634,  0.0000],\n",
       "         [-0.2312,  0.7818, -0.3524, -0.3432,  0.4072,  0.0000],\n",
       "         [ 0.7066, -0.1244, -0.2518, -0.2450,  0.4634,  0.0000],\n",
       "         [-0.2312, -1.1599, -0.1324, -0.1658, -1.4239,  0.0000],\n",
       "         [ 0.7066, -0.1244, -0.0475, -0.0390,  0.4634,  0.0000],\n",
       "         [-0.2312,  0.7818,  0.0657,  0.0782,  0.4072,  0.0000],\n",
       "         [ 0.7066, -0.1244,  0.1726,  0.1828,  0.4634,  0.0000],\n",
       "         [-0.2312,  0.7818,  0.2858,  0.3000,  0.4072,  0.0000],\n",
       "         [ 0.7066, -0.1244,  0.3455,  0.3571,  0.4634,  0.0000],\n",
       "         [-1.3028, -0.1244,  0.3455,  0.3159, -1.4987,  0.0000],\n",
       "         [ 0.7066, -0.1244,  0.3927,  0.4046,  0.4634,  0.0000],\n",
       "         [-0.2312,  0.7818,  0.4336,  0.4489,  0.4072,  0.0000],\n",
       "         [ 0.7066, -0.1244,  0.4399,  0.4521,  0.4634,  0.0000],\n",
       "         [-0.2312,  0.7818,  0.4587,  0.4743,  0.4072,  0.0000],\n",
       "         [ 0.7066, -0.1244,  0.5342,  0.5472,  0.4634,  0.0000],\n",
       "         [-0.2312,  0.7818,  0.5373,  0.5535,  0.4072,  0.0000],\n",
       "         [-0.2312,  0.7818,  0.6316,  0.6486,  0.4072,  0.0000],\n",
       "         [ 0.7066, -0.1244,  0.6442,  0.6581,  0.4634,  0.0000],\n",
       "         [ 0.7066, -0.1244,  0.7228,  0.7373,  0.4634,  0.0000],\n",
       "         [-0.2312,  0.7818,  0.7260,  0.7436,  0.4072,  0.0000],\n",
       "         [ 0.7066, -1.1599,  0.8171,  0.7816, -1.6527,  0.0000],\n",
       "         [-0.2312,  0.7818,  0.8203,  0.8387,  0.4072,  0.0000],\n",
       "         [ 0.7066, -0.1244,  0.9115,  0.9274,  0.4634,  0.0000],\n",
       "         [-0.2312,  0.7818,  0.9146,  0.9337,  0.4072,  0.0000],\n",
       "         [-0.2312,  0.7818,  1.0089,  1.0288,  0.4072,  0.0000],\n",
       "         [ 0.7066, -0.1244,  1.0215,  1.0383,  0.4634,  0.0000],\n",
       "         [ 0.7066, -1.1599,  1.1944,  1.1619, -1.6527,  0.0000],\n",
       "         [-0.2312,  0.7818,  1.1976,  1.2189,  0.4072,  0.0000],\n",
       "         [-1.3028, -0.1244,  1.8798,  1.8494, -1.4987,  0.0000],\n",
       "         [-0.2312, -1.1599,  1.9521,  1.9350, -1.4239,  0.0000],\n",
       "         [-4.1161, -3.8783,  3.0651,  3.0059, -3.6148,  0.0000]],\n",
       "        dtype=torch.float64), 'edge_index': tensor([[ 0,  0,  0,  ..., 48, 49, 50],\n",
       "         [ 0,  1,  2,  ..., 50, 50, 50]])}]"
      ]
     },
     "execution_count": 43,
     "metadata": {},
     "output_type": "execute_result"
    }
   ],
   "source": [
    "data.node_stores"
   ]
  },
  {
   "cell_type": "code",
   "execution_count": 7,
   "metadata": {},
   "outputs": [
    {
     "name": "stderr",
     "output_type": "stream",
     "text": [
      "Downloading https://github.com/kimiyoung/planetoid/raw/master/data/ind.cora.x\n",
      "Downloading https://github.com/kimiyoung/planetoid/raw/master/data/ind.cora.tx\n",
      "Downloading https://github.com/kimiyoung/planetoid/raw/master/data/ind.cora.allx\n",
      "Downloading https://github.com/kimiyoung/planetoid/raw/master/data/ind.cora.y\n",
      "Downloading https://github.com/kimiyoung/planetoid/raw/master/data/ind.cora.ty\n",
      "Downloading https://github.com/kimiyoung/planetoid/raw/master/data/ind.cora.ally\n",
      "Downloading https://github.com/kimiyoung/planetoid/raw/master/data/ind.cora.graph\n",
      "Downloading https://github.com/kimiyoung/planetoid/raw/master/data/ind.cora.test.index\n",
      "Processing...\n",
      "Done!\n"
     ]
    }
   ],
   "source": [
    "from torch_geometric.datasets import Planetoid\n",
    "\n",
    "dataset = Planetoid(root='/tmp/Cora', name='Cora')"
   ]
  },
  {
   "cell_type": "code",
   "execution_count": 8,
   "metadata": {},
   "outputs": [],
   "source": [
    "import torch\n",
    "import torch.nn.functional as F\n",
    "from torch_geometric.nn import GCNConv\n",
    "\n",
    "class GCN(torch.nn.Module):\n",
    "    def __init__(self):\n",
    "        super().__init__()\n",
    "        self.conv1 = GCNConv(dataset.num_node_features, 16)\n",
    "        self.conv2 = GCNConv(16, dataset.num_classes)\n",
    "\n",
    "    def forward(self, data):\n",
    "        x, edge_index = data.x, data.edge_index\n",
    "\n",
    "        x = self.conv1(x, edge_index)\n",
    "        x = F.relu(x)\n",
    "        x = F.dropout(x, training=self.training)\n",
    "        x = self.conv2(x, edge_index)\n",
    "\n",
    "        return F.log_softmax(x, dim=1)"
   ]
  },
  {
   "cell_type": "code",
   "execution_count": 14,
   "metadata": {},
   "outputs": [],
   "source": [
    "device = torch.device('cuda' if torch.cuda.is_available() else 'cpu')\n",
    "model = GCN().to(device)\n",
    "data = dataset[0].to(device)\n",
    "optimizer = torch.optim.Adam(model.parameters(), lr=0.01, weight_decay=5e-4)\n",
    "\n",
    "model.train()\n",
    "for epoch in range(200):\n",
    "    optimizer.zero_grad()\n",
    "    out = model(data)\n",
    "    loss = F.nll_loss(out[data.train_mask], data.y[data.train_mask])\n",
    "    loss.backward()\n",
    "    optimizer.step()"
   ]
  },
  {
   "cell_type": "code",
   "execution_count": 16,
   "metadata": {},
   "outputs": [
    {
     "data": {
      "text/plain": [
       "Data(x=[2708, 1433], edge_index=[2, 10556], y=[2708], train_mask=[2708], val_mask=[2708], test_mask=[2708])"
      ]
     },
     "execution_count": 16,
     "metadata": {},
     "output_type": "execute_result"
    }
   ],
   "source": [
    "data"
   ]
  },
  {
   "cell_type": "code",
   "execution_count": 19,
   "metadata": {},
   "outputs": [
    {
     "data": {
      "text/plain": [
       "0"
      ]
     },
     "execution_count": 19,
     "metadata": {},
     "output_type": "execute_result"
    }
   ],
   "source": [
    "data.num_edge_features"
   ]
  },
  {
   "cell_type": "code",
   "execution_count": 10,
   "metadata": {},
   "outputs": [
    {
     "name": "stdout",
     "output_type": "stream",
     "text": [
      "Accuracy: 0.8180\n"
     ]
    }
   ],
   "source": [
    "model.eval()\n",
    "pred = model(data).argmax(dim=1)\n",
    "correct = (pred[data.test_mask] == data.y[data.test_mask]).sum()\n",
    "acc = int(correct) / int(data.test_mask.sum())\n",
    "print(f'Accuracy: {acc:.4f}')"
   ]
  }
 ],
 "metadata": {
  "kernelspec": {
   "display_name": "Python 3",
   "language": "python",
   "name": "python3"
  },
  "language_info": {
   "codemirror_mode": {
    "name": "ipython",
    "version": 3
   },
   "file_extension": ".py",
   "mimetype": "text/x-python",
   "name": "python",
   "nbconvert_exporter": "python",
   "pygments_lexer": "ipython3",
   "version": "3.7.9"
  },
  "orig_nbformat": 4
 },
 "nbformat": 4,
 "nbformat_minor": 2
}
